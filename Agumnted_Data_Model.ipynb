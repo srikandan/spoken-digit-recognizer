{
 "cells": [
  {
   "cell_type": "code",
   "execution_count": 1,
   "metadata": {
    "id": "_qGuPcj-aNmh"
   },
   "outputs": [],
   "source": [
    "import math\n",
    "from PIL import Image, ImageDraw\n",
    "from PIL import ImagePath\n",
    "import pandas as pd\n",
    "import os\n",
    "from os import path as pth\n",
    "from pathlib import Path\n",
    "from tqdm import tqdm\n",
    "import json\n",
    "import cv2\n",
    "import numpy as np\n",
    "import matplotlib.pyplot as plt\n",
    "import urllib\n",
    "import shutil\n",
    "import librosa\n",
    "from sklearn.utils import shuffle\n",
    "from sklearn.model_selection import train_test_split\n",
    "from tensorflow.keras.callbacks import ModelCheckpoint, TensorBoard, ReduceLROnPlateau\n",
    "import matplotlib.pyplot as plt\n",
    "import random as rn\n",
    "from sklearn.metrics import f1_score \n",
    "from prettytable import PrettyTable\n",
    "from tensorflow.keras import regularizers\n",
    "\n",
    "from tensorflow.keras.layers import Input, LSTM, Dense, GlobalAveragePooling1D, Dropout\n",
    "from tensorflow.keras.models import Model\n",
    "import tensorflow as tf\n",
    "import tensorflow_addons as tfa"
   ]
  },
  {
   "cell_type": "code",
   "execution_count": 2,
   "metadata": {
    "id": "HDBcl_PUaNmp"
   },
   "outputs": [],
   "source": [
    "recordings_path = os.getcwd() + '\\\\recordings'\n",
    "\n",
    "file_names = os.listdir(recordings_path)\n",
    "\n",
    "all_files = [(recordings_path + '\\\\' + i) for i in file_names]\n",
    "labels = [i[0][0] for i in file_names]"
   ]
  },
  {
   "cell_type": "code",
   "execution_count": 3,
   "metadata": {},
   "outputs": [
    {
     "data": {
      "text/plain": [
       "array(['0', '1', '2', '3', '4', '5', '6', '7', '8', '9'], dtype='<U1')"
      ]
     },
     "execution_count": 3,
     "metadata": {},
     "output_type": "execute_result"
    }
   ],
   "source": [
    "np.unique(labels)"
   ]
  },
  {
   "cell_type": "code",
   "execution_count": 4,
   "metadata": {
    "id": "fWP6vXBeaNm3"
   },
   "outputs": [],
   "source": [
    "file_dict = {'path':all_files,'label':labels}\n",
    "\n",
    "df_audio = pd.DataFrame(file_dict)\n",
    "\n",
    "df_audio = shuffle(df_audio, random_state=33)"
   ]
  },
  {
   "cell_type": "code",
   "execution_count": 5,
   "metadata": {
    "id": "5ZpuaGuJaNm8",
    "outputId": "76da0fb5-2033-49ef-eba7-880c395cf87a"
   },
   "outputs": [
    {
     "name": "stdout",
     "output_type": "stream",
     "text": [
      "<class 'pandas.core.frame.DataFrame'>\n",
      "Int64Index: 2000 entries, 766 to 1044\n",
      "Data columns (total 2 columns):\n",
      " #   Column  Non-Null Count  Dtype \n",
      "---  ------  --------------  ----- \n",
      " 0   path    2000 non-null   object\n",
      " 1   label   2000 non-null   object\n",
      "dtypes: object(2)\n",
      "memory usage: 46.9+ KB\n"
     ]
    }
   ],
   "source": [
    "#info\n",
    "df_audio.info()"
   ]
  },
  {
   "cell_type": "code",
   "execution_count": 6,
   "metadata": {
    "id": "PlfssCc3aNnL"
   },
   "outputs": [],
   "source": [
    "from sklearn.utils import shuffle\n",
    "df_audio = shuffle(df_audio, random_state=33)#don't change the random state"
   ]
  },
  {
   "cell_type": "code",
   "execution_count": 7,
   "metadata": {
    "id": "vSPy-Ln6aNnS"
   },
   "outputs": [],
   "source": [
    "X = df_audio['path']\n",
    "y = df_audio['label']\n",
    "\n",
    "X_train, X_test, y_train, y_test = train_test_split(X, y, test_size=0.20, \n",
    "                                                    random_state=45, stratify=y)"
   ]
  },
  {
   "cell_type": "code",
   "execution_count": 8,
   "metadata": {},
   "outputs": [
    {
     "name": "stdout",
     "output_type": "stream",
     "text": [
      "(1600,)\n",
      "(400,)\n"
     ]
    }
   ],
   "source": [
    "y_train = np.array([int(i) for i in y_train])\n",
    "y_test = np.array([int(i) for i in y_test])\n",
    "\n",
    "print(y_train.shape)\n",
    "print(y_test.shape)"
   ]
  },
  {
   "cell_type": "code",
   "execution_count": 9,
   "metadata": {},
   "outputs": [],
   "source": [
    "sample_rate = 22050\n",
    "def load_wav(x, get_duration=True):\n",
    "    samples, sample_rate = librosa.load(x, sr=22050)\n",
    "    if get_duration:\n",
    "        duration = librosa.get_duration(samples, sample_rate)\n",
    "        return [samples, duration]\n",
    "    else:\n",
    "        return samples"
   ]
  },
  {
   "cell_type": "code",
   "execution_count": 10,
   "metadata": {},
   "outputs": [],
   "source": [
    "# generating augmented data. \n",
    "def generate_augmented_data(file_path):\n",
    "    augmented_data = []\n",
    "    samples = load_wav(file_path, get_duration=False)\n",
    "    for time_value in [0.7, 1, 1.3]:\n",
    "        for pitch_value in [-1, 0, 1]:\n",
    "            time_stretch_data = librosa.effects.time_stretch(samples, rate=time_value)\n",
    "            final_data = librosa.effects.pitch_shift(time_stretch_data, sr=sample_rate, n_steps=pitch_value)\n",
    "            augmented_data.append(final_data)\n",
    "    return augmented_data"
   ]
  },
  {
   "cell_type": "code",
   "execution_count": 11,
   "metadata": {},
   "outputs": [],
   "source": [
    "agumented_data = []\n",
    "for path in X_train:\n",
    "    agumented_data.extend(generate_augmented_data(path))\n",
    "\n",
    "agumented_data = np.array(agumented_data)"
   ]
  },
  {
   "cell_type": "code",
   "execution_count": 12,
   "metadata": {},
   "outputs": [],
   "source": [
    "np.save('agumented_audio.npy', agumented_data, allow_pickle=True)"
   ]
  },
  {
   "cell_type": "code",
   "execution_count": 13,
   "metadata": {},
   "outputs": [
    {
     "name": "stdout",
     "output_type": "stream",
     "text": [
      "(14400,)\n"
     ]
    }
   ],
   "source": [
    "X_train_processed = np.load('agumented_audio.npy', allow_pickle=True)\n",
    "print(X_train_processed.shape)"
   ]
  },
  {
   "cell_type": "code",
   "execution_count": 14,
   "metadata": {},
   "outputs": [
    {
     "name": "stdout",
     "output_type": "stream",
     "text": [
      "(400,)\n"
     ]
    }
   ],
   "source": [
    "X_test_processed = X_test.apply(lambda x: load_wav(x, get_duration=False))\n",
    "X_test_processed = np.array(X_test_processed)\n",
    "print(X_test_processed.shape)"
   ]
  },
  {
   "cell_type": "code",
   "execution_count": 15,
   "metadata": {},
   "outputs": [
    {
     "name": "stdout",
     "output_type": "stream",
     "text": [
      "(14400,)\n"
     ]
    }
   ],
   "source": [
    "up_y_train = np.array([])\n",
    "for i in y_train:\n",
    "    for j in range(9):\n",
    "        up_y_train = np.append(up_y_train, i)\n",
    "        \n",
    "y_train = up_y_train.copy()\n",
    "print(y_train.shape)"
   ]
  },
  {
   "cell_type": "code",
   "execution_count": 16,
   "metadata": {},
   "outputs": [],
   "source": [
    "max_length  = 17640"
   ]
  },
  {
   "cell_type": "code",
   "execution_count": 17,
   "metadata": {},
   "outputs": [
    {
     "name": "stdout",
     "output_type": "stream",
     "text": [
      "(14400, 17640)\n",
      "(14400, 17640)\n"
     ]
    }
   ],
   "source": [
    "X_train_pad_seq = []\n",
    "X_train_mask = []\n",
    "for data in X_train_processed:\n",
    "    length = len(data)\n",
    "    value = data\n",
    "    if (length >= max_length):\n",
    "        X_train_pad_seq.append(value[0:max_length])\n",
    "        X_train_mask.append(np.ones(max_length))\n",
    "    else:\n",
    "        zero_pad = np.zeros(max_length - length)\n",
    "        mask_one_padd = np.ones(length - 1)\n",
    "        mask_zero_padd = np.zeros((max_length - length) + 1)\n",
    "        X_train_pad_seq.append(np.concatenate((value, zero_pad)))\n",
    "        X_train_mask.append(np.concatenate((mask_one_padd, mask_zero_padd)))\n",
    "        \n",
    "X_train_pad_seq = np.array(X_train_pad_seq)\n",
    "X_train_mask = np.array(X_train_mask)\n",
    "X_train_mask = X_train_mask.astype('bool')\n",
    "\n",
    "print(X_train_pad_seq.shape)\n",
    "print(X_train_mask.shape)"
   ]
  },
  {
   "cell_type": "code",
   "execution_count": 18,
   "metadata": {},
   "outputs": [
    {
     "name": "stdout",
     "output_type": "stream",
     "text": [
      "[[0.00063156 0.00061116 0.0002509  ... 0.         0.         0.        ]\n",
      " [0.0006791  0.00061211 0.00027364 ... 0.         0.         0.        ]\n",
      " [0.00066257 0.00063405 0.00020695 ... 0.         0.         0.        ]\n",
      " [0.00052149 0.00048342 0.00010346 ... 0.         0.         0.        ]\n",
      " [0.00055337 0.00047745 0.00011278 ... 0.         0.         0.        ]]\n",
      "\n",
      "\n",
      "[[ True  True  True ... False False False]\n",
      " [ True  True  True ... False False False]\n",
      " [ True  True  True ... False False False]\n",
      " [ True  True  True ... False False False]\n",
      " [ True  True  True ... False False False]]\n"
     ]
    }
   ],
   "source": [
    "print(X_train_pad_seq[0:5])\n",
    "print('\\n')\n",
    "print(X_train_mask[0:5])"
   ]
  },
  {
   "cell_type": "code",
   "execution_count": 19,
   "metadata": {},
   "outputs": [
    {
     "name": "stdout",
     "output_type": "stream",
     "text": [
      "(400, 17640)\n",
      "(400, 17640)\n"
     ]
    }
   ],
   "source": [
    "X_test_pad_seq = []\n",
    "X_test_mask = []\n",
    "for data in X_test_processed:\n",
    "    length = len(data)\n",
    "    value = data\n",
    "    if (length > max_length):\n",
    "        X_test_pad_seq.append(value[0:max_length])\n",
    "        X_test_mask.append(np.ones(max_length))\n",
    "    else:\n",
    "        zero_pad = np.zeros(max_length - length)\n",
    "        mask_one_padd = np.ones(length - 1)\n",
    "        mask_zero_padd = np.zeros((max_length - length) + 1)\n",
    "        X_test_pad_seq.append(np.concatenate((value, zero_pad)))\n",
    "        X_test_mask.append(np.concatenate((mask_one_padd, mask_zero_padd)))\n",
    "        \n",
    "X_test_pad_seq = np.array(X_test_pad_seq)\n",
    "X_test_mask = np.array(X_test_mask)\n",
    "X_test_mask = X_test_mask.astype('bool')\n",
    "\n",
    "print(X_test_pad_seq.shape)\n",
    "print(X_test_mask.shape)"
   ]
  },
  {
   "cell_type": "code",
   "execution_count": 20,
   "metadata": {},
   "outputs": [
    {
     "name": "stdout",
     "output_type": "stream",
     "text": [
      "[[-8.97830166e-03 -1.06666740e-02 -1.08216805e-02 ...  0.00000000e+00\n",
      "   0.00000000e+00  0.00000000e+00]\n",
      " [-1.09508228e-05 -6.75348783e-05 -8.38435808e-05 ...  0.00000000e+00\n",
      "   0.00000000e+00  0.00000000e+00]\n",
      " [-9.05057136e-03 -1.53503912e-02 -1.70323551e-02 ...  0.00000000e+00\n",
      "   0.00000000e+00  0.00000000e+00]\n",
      " [ 7.79882132e-04  1.72638032e-03  8.25172523e-04 ...  0.00000000e+00\n",
      "   0.00000000e+00  0.00000000e+00]\n",
      " [ 6.79983350e-04  4.20679891e-04 -3.37097386e-04 ...  0.00000000e+00\n",
      "   0.00000000e+00  0.00000000e+00]]\n",
      "\n",
      "\n",
      "[[ True  True  True ... False False False]\n",
      " [ True  True  True ... False False False]\n",
      " [ True  True  True ... False False False]\n",
      " [ True  True  True ... False False False]\n",
      " [ True  True  True ... False False False]]\n"
     ]
    }
   ],
   "source": [
    "print(X_test_pad_seq[0:5])\n",
    "print('\\n')\n",
    "print(X_test_mask[0:5])"
   ]
  },
  {
   "cell_type": "code",
   "execution_count": 21,
   "metadata": {
    "id": "IaQjaiiGaNpv"
   },
   "outputs": [],
   "source": [
    "os.environ['PYTHONHASHSEED'] = '0'\n",
    "tf.keras.backend.clear_session()\n",
    "np.random.seed(0)\n",
    "rn.seed(0)"
   ]
  },
  {
   "cell_type": "code",
   "execution_count": 22,
   "metadata": {
    "id": "862fP2e-aNp3"
   },
   "outputs": [
    {
     "name": "stdout",
     "output_type": "stream",
     "text": [
      "Model: \"model\"\n",
      "_________________________________________________________________\n",
      "Layer (type)                 Output Shape              Param #   \n",
      "=================================================================\n",
      "Input_Layer (InputLayer)     [(None, 17640, 1)]        0         \n",
      "_________________________________________________________________\n",
      "LSTM_Layer (LSTM)            (None, 25)                2700      \n",
      "_________________________________________________________________\n",
      "Dense_Layer (Dense)          (None, 50)                1300      \n",
      "_________________________________________________________________\n",
      "Output (Dense)               (None, 10)                510       \n",
      "=================================================================\n",
      "Total params: 4,510\n",
      "Trainable params: 4,510\n",
      "Non-trainable params: 0\n",
      "_________________________________________________________________\n"
     ]
    }
   ],
   "source": [
    "input_ = tf.keras.Input(shape=(17640, 1), name='Input_Layer')\n",
    "mask_input = tf.keras.Input(shape=(17640), name='Mask_Input_Layer')\n",
    "lstm = LSTM(25, kernel_initializer='he_normal', name='LSTM_Layer')(input_)\n",
    "dense = tf.keras.layers.Dense(50, name='Dense_Layer')(lstm)\n",
    "output = tf.keras.layers.Dense(10, activation='softmax', name='Output')(dense)\n",
    "model = Model(inputs=input_, outputs=output)\n",
    "model.summary()"
   ]
  },
  {
   "cell_type": "code",
   "execution_count": 26,
   "metadata": {},
   "outputs": [],
   "source": [
    "class F1Metrics(tf.keras.callbacks.Callback):\n",
    "    def __init__(self, train_data, validation, target):   \n",
    "        super(F1Metrics, self).__init__()\n",
    "        self.train_data = train_data\n",
    "        self.validation_data = validation\n",
    "        self.target = target\n",
    "    \n",
    "    def on_epoch_end(self, epoch, logs={}):\n",
    "        predict = self.model.predict(self.train_data[0])\n",
    "        predict = np.argmax(predict, axis=1)\n",
    "        \n",
    "        val_predict = self.model.predict(self.validation_data[0])\n",
    "        val_predict = np.argmax(val_predict, axis=1)\n",
    "        \n",
    "        target = self.train_data[1]\n",
    "        val_target = self.validation_data[1]\n",
    "\n",
    "        f1 = f1_score(target, predict, average='micro')\n",
    "        val_f1 = f1_score(val_target, val_predict, average='micro')\n",
    "\n",
    "        pt = PrettyTable()\n",
    "        pt.field_names = ['Epoch', 'Loss', 'Validation Loss', 'Accuracy', \n",
    "                          'Validation Accuracy', 'F1', 'F1_Val']\n",
    "        pt.add_row([(epoch+1), np.round(logs['loss'], 4), np.round(logs['val_loss'], 4), \n",
    "                    np.round(logs['acc'], 4), np.round(logs['val_acc'], 4), \n",
    "                    f1, val_f1])\n",
    "        print(pt)\n",
    "        \n",
    "        if (f1 >= self.target and val_f1 > self.target):\n",
    "            self.model.stop_training = True\n",
    "            print(\"F1 score reached the target\")\n",
    "\n",
    "f1 = F1Metrics((X_train_pad_seq, y_train), (X_test_pad_seq, y_test), 0.10)"
   ]
  },
  {
   "cell_type": "code",
   "execution_count": 27,
   "metadata": {},
   "outputs": [],
   "source": [
    "def step_decay(epoch):\n",
    "    initial_lrate = 0.001\n",
    "    drop = 0.9\n",
    "    epochs_drop = 50\n",
    "    lrate = initial_lrate * math.pow(drop, math.floor((1+epoch)/epochs_drop))\n",
    "    print('Learning Rate ->', lrate)\n",
    "    return lrate\n",
    "\n",
    "lr_reducer = tf.keras.callbacks.LearningRateScheduler(step_decay)"
   ]
  },
  {
   "cell_type": "code",
   "execution_count": 28,
   "metadata": {},
   "outputs": [
    {
     "name": "stdout",
     "output_type": "stream",
     "text": [
      "Old Log folder is deleted\n",
      "New Log folder is created\n"
     ]
    }
   ],
   "source": [
    "# Reference: Assignment\n",
    "log_path = os.getcwd() + '\\\\logs'\n",
    "if(pth.exists(log_path)):\n",
    "    shutil.rmtree(log_path)\n",
    "    print('Old Log folder is deleted')\n",
    "\n",
    "%reload_ext tensorboard\n",
    "\n",
    "log_dir = log_path\n",
    "tensorboard_callback = TensorBoard(log_dir=log_dir, histogram_freq=1, write_graph=True)\n",
    "print('New Log folder is created')"
   ]
  },
  {
   "cell_type": "code",
   "execution_count": 29,
   "metadata": {},
   "outputs": [],
   "source": [
    "model.compile(optimizer=tf.keras.optimizers.Adam(0.0001), loss='sparse_categorical_crossentropy', \n",
    "              metrics=['acc'])"
   ]
  },
  {
   "cell_type": "code",
   "execution_count": 30,
   "metadata": {},
   "outputs": [
    {
     "name": "stdout",
     "output_type": "stream",
     "text": [
      "Epoch 1/5\n",
      "225/225 [==============================] - ETA: 0s - loss: 2.3027 - acc: 0.0950+-------+--------+-----------------+----------+---------------------+----------+---------------------+\n",
      "| Epoch |  Loss  | Validation Loss | Accuracy | Validation Accuracy |    F1    |        F1_Val       |\n",
      "+-------+--------+-----------------+----------+---------------------+----------+---------------------+\n",
      "|   1   | 2.3027 |      2.3026     |  0.095   |         0.1         | 0.101875 | 0.10000000000000002 |\n",
      "+-------+--------+-----------------+----------+---------------------+----------+---------------------+\n",
      "F1 score reached the target\n",
      "225/225 [==============================] - 159s 706ms/step - loss: 2.3027 - acc: 0.0950 - val_loss: 2.3026 - val_acc: 0.1000\n"
     ]
    },
    {
     "data": {
      "text/plain": [
       "<tensorflow.python.keras.callbacks.History at 0x298367c7408>"
      ]
     },
     "execution_count": 30,
     "metadata": {},
     "output_type": "execute_result"
    }
   ],
   "source": [
    "#train your model\n",
    "model.fit([X_train_pad_seq, X_train_mask], y_train, epochs=5, batch_size=64, \n",
    "          validation_data=([X_test_pad_seq, X_test_mask], y_test),\n",
    "          callbacks = [f1, tensorboard_callback])"
   ]
  },
  {
   "cell_type": "code",
   "execution_count": 32,
   "metadata": {},
   "outputs": [],
   "source": [
    "# %tensorboard --logdir logs"
   ]
  },
  {
   "cell_type": "code",
   "execution_count": 33,
   "metadata": {},
   "outputs": [
    {
     "data": {
      "image/png": "[encoded data removed]",
      "text/plain": [
       "<IPython.core.display.Image object>"
      ]
     },
     "execution_count": 33,
     "metadata": {},
     "output_type": "execute_result"
    }
   ],
   "source": [
    "from IPython.display import Image\n",
    "Image(filename='F:\\\\Applied AI\\\\Assignments\\\\28.Spoken Digit Recognition\\\\Tensorboard Results\\\\Task_3.PNG')"
   ]
  }
 ],
 "metadata": {
  "colab": {
   "collapsed_sections": [
    "K0kaYQ1jaNop"
   ],
   "name": "Speech detection Assignment.ipynb",
   "provenance": []
  },
  "kernelspec": {
   "display_name": "Python [conda env:tensorflow_gpu] *",
   "language": "python",
   "name": "conda-env-tensorflow_gpu-py"
  },
  "language_info": {
   "codemirror_mode": {
    "name": "ipython",
    "version": 3
   },
   "file_extension": ".py",
   "mimetype": "text/x-python",
   "name": "python",
   "nbconvert_exporter": "python",
   "pygments_lexer": "ipython3",
   "version": "3.7.9"
  }
 },
 "nbformat": 4,
 "nbformat_minor": 4
}
